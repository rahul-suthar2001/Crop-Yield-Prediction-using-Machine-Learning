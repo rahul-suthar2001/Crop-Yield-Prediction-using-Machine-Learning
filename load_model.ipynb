{
 "cells": [
  {
   "cell_type": "markdown",
   "id": "1214c77f",
   "metadata": {},
   "source": [
    "### Predict Production"
   ]
  },
  {
   "cell_type": "code",
   "execution_count": 1,
   "id": "83ef7eb2",
   "metadata": {},
   "outputs": [],
   "source": [
    "import pickle\n",
    "from sklearn.preprocessing import LabelEncoder\n",
    "import numpy as np"
   ]
  },
  {
   "cell_type": "code",
   "execution_count": 2,
   "id": "5d5391b3",
   "metadata": {},
   "outputs": [],
   "source": [
    "north_india = ['Jammu and Kashmir', 'Punjab', 'Himachal Pradesh', 'Haryana', 'Uttarakhand', 'Uttar Pradesh', 'Chandigarh']\n",
    "east_india = ['Bihar', 'Odisha', 'Jharkhand', 'West Bengal']\n",
    "south_india = ['Andhra Pradesh', 'Karnataka', 'Kerala' ,'Tamil Nadu', 'Telangana']\n",
    "west_india = ['Rajasthan' , 'Gujarat', 'Goa','Maharashtra','Goa']\n",
    "central_india = ['Madhya Pradesh', 'Chhattisgarh']\n",
    "north_east_india = ['Assam', 'Sikkim', 'Nagaland', 'Meghalaya', 'Manipur', 'Mizoram', 'Tripura', 'Arunachal Pradesh']\n",
    "ut_india = ['Andaman and Nicobar Islands', 'Dadra and Nagar Haveli', 'Puducherry']\n",
    "\n",
    "\n"
   ]
  },
  {
   "cell_type": "code",
   "execution_count": 3,
   "id": "95c808a6",
   "metadata": {},
   "outputs": [],
   "source": [
    "def clean(value):\n",
    "    return value.replace(' ','').lower()"
   ]
  },
  {
   "cell_type": "code",
   "execution_count": 4,
   "id": "a33365aa",
   "metadata": {},
   "outputs": [],
   "source": [
    "north_india = [clean(name) for name in north_india]\n",
    "east_india = [clean(name) for name in east_india]\n",
    "south_india = [clean(name) for name in south_india]\n",
    "west_india = [clean(name) for name in west_india]\n",
    "central_india = [clean(name) for name in central_india]\n",
    "north_east_india= [clean(name) for name in north_east_india]\n",
    "ut_india  =[clean(name) for name in ut_india]"
   ]
  },
  {
   "cell_type": "code",
   "execution_count": 5,
   "id": "337d1856",
   "metadata": {},
   "outputs": [],
   "source": [
    "def get_zonal_names(state_name):\n",
    "    if state_name in north_india:\n",
    "        val = 'North Zone'\n",
    "    elif state_name  in south_india:\n",
    "        val = 'South Zone'\n",
    "    elif state_name  in east_india:\n",
    "        val = 'East Zone'\n",
    "    elif state_name in west_india:\n",
    "        val = 'West Zone'\n",
    "    elif state_name  in central_india:\n",
    "        val = 'Central Zone'\n",
    "    elif state_name  in north_east_india:\n",
    "        val = 'NE Zone'\n",
    "    elif state_name  in ut_india:\n",
    "        val = 'Union Terr'\n",
    "    else:\n",
    "        val = 'No Value'\n",
    "    return val"
   ]
  },
  {
   "cell_type": "code",
   "execution_count": null,
   "id": "89aa3d79",
   "metadata": {},
   "outputs": [],
   "source": []
  },
  {
   "cell_type": "code",
   "execution_count": null,
   "id": "49207ccc",
   "metadata": {},
   "outputs": [],
   "source": [
    "\n"
   ]
  },
  {
   "cell_type": "code",
   "execution_count": 6,
   "id": "6f9cb871",
   "metadata": {},
   "outputs": [],
   "source": [
    "zones_list = ['Union Terr', 'South Zone', 'NE Zone', 'East Zone', 'North Zone',\n",
    "       'Central Zone', 'West Zone']"
   ]
  },
  {
   "cell_type": "code",
   "execution_count": 7,
   "id": "6f69d307",
   "metadata": {},
   "outputs": [],
   "source": [
    "state_list = ['Andaman and Nicobar Islands', 'Andhra Pradesh',\n",
    "       'Arunachal Pradesh', 'Assam', 'Bihar', 'Chandigarh',\n",
    "       'Chhattisgarh', 'Dadra and Nagar Haveli', 'Goa', 'Gujarat',\n",
    "       'Haryana', 'Himachal Pradesh', 'Jammu and Kashmir ', 'Jharkhand',\n",
    "       'Karnataka', 'Kerala', 'Madhya Pradesh', 'Maharashtra', 'Manipur',\n",
    "       'Meghalaya', 'Mizoram', 'Nagaland', 'Odisha', 'Puducherry',\n",
    "       'Punjab', 'Rajasthan', 'Sikkim', 'Tamil Nadu', 'Telangana ',\n",
    "       'Tripura', 'Uttar Pradesh', 'Uttarakhand', 'West Bengal']"
   ]
  },
  {
   "cell_type": "code",
   "execution_count": 8,
   "id": "ebaaaf5b",
   "metadata": {},
   "outputs": [],
   "source": [
    "District_list =[ 'NICOBARS', 'NORTH AND MIDDLE ANDAMAN', 'SOUTH ANDAMANS',\n",
    "       'ANANTAPUR', 'CHITTOOR', 'EAST GODAVARI', 'GUNTUR', 'KADAPA',\n",
    "       'KRISHNA', 'KURNOOL', 'PRAKASAM', 'SPSR NELLORE', 'SRIKAKULAM',\n",
    "       'VISAKHAPATANAM', 'VIZIANAGARAM', 'WEST GODAVARI', 'ANJAW',\n",
    "       'CHANGLANG', 'DIBANG VALLEY', 'EAST KAMENG', 'EAST SIANG',\n",
    "       'KURUNG KUMEY', 'LOHIT', 'LONGDING', 'LOWER DIBANG VALLEY',\n",
    "       'LOWER SUBANSIRI', 'NAMSAI', 'PAPUM PARE', 'TAWANG', 'TIRAP',\n",
    "       'UPPER SIANG', 'UPPER SUBANSIRI', 'WEST KAMENG', 'WEST SIANG',\n",
    "       'BAKSA', 'BARPETA', 'BONGAIGAON', 'CACHAR', 'CHIRANG', 'DARRANG',\n",
    "       'DHEMAJI', 'DHUBRI', 'DIBRUGARH', 'DIMA HASAO', 'GOALPARA',\n",
    "       'GOLAGHAT', 'HAILAKANDI', 'JORHAT', 'KAMRUP', 'KAMRUP METRO',\n",
    "       'KARBI ANGLONG', 'KARIMGANJ', 'KOKRAJHAR', 'LAKHIMPUR', 'MARIGAON',\n",
    "       'NAGAON', 'NALBARI', 'SIVASAGAR', 'SONITPUR', 'TINSUKIA',\n",
    "       'UDALGURI', 'ARARIA', 'ARWAL', 'AURANGABAD', 'BANKA', 'BEGUSARAI',\n",
    "       'BHAGALPUR', 'BHOJPUR', 'BUXAR', 'DARBHANGA', 'GAYA', 'GOPALGANJ',\n",
    "       'JAMUI', 'JEHANABAD', 'KAIMUR (BHABUA)', 'KATIHAR', 'KHAGARIA',\n",
    "       'KISHANGANJ', 'LAKHISARAI', 'MADHEPURA', 'MADHUBANI', 'MUNGER',\n",
    "       'MUZAFFARPUR', 'NALANDA', 'NAWADA', 'PASHCHIM CHAMPARAN', 'PATNA',\n",
    "       'PURBI CHAMPARAN', 'PURNIA', 'ROHTAS', 'SAHARSA', 'SAMASTIPUR',\n",
    "       'SARAN', 'SHEIKHPURA', 'SHEOHAR', 'SITAMARHI', 'SIWAN', 'SUPAUL',\n",
    "       'VAISHALI', 'CHANDIGARH', 'BALOD', 'BALODA BAZAR', 'BALRAMPUR',\n",
    "       'BASTAR', 'BEMETARA', 'BIJAPUR', 'BILASPUR', 'DANTEWADA',\n",
    "       'DHAMTARI', 'DURG', 'GARIYABAND', 'JANJGIR-CHAMPA', 'JASHPUR',\n",
    "       'KABIRDHAM', 'KANKER', 'KONDAGAON', 'KORBA', 'KOREA', 'MAHASAMUND',\n",
    "       'MUNGELI', 'NARAYANPUR', 'RAIGARH', 'RAIPUR', 'RAJNANDGAON',\n",
    "       'SUKMA', 'SURAJPUR', 'SURGUJA', 'DADRA AND NAGAR HAVELI',\n",
    "       'NORTH GOA', 'SOUTH GOA', 'AHMADABAD', 'AMRELI', 'ANAND',\n",
    "       'BANAS KANTHA', 'BHARUCH', 'BHAVNAGAR', 'DANG', 'DOHAD',\n",
    "       'GANDHINAGAR', 'JAMNAGAR', 'JUNAGADH', 'KACHCHH', 'KHEDA',\n",
    "       'MAHESANA', 'NARMADA', 'NAVSARI', 'PANCH MAHALS', 'PATAN',\n",
    "       'PORBANDAR', 'RAJKOT', 'SABAR KANTHA', 'SURAT', 'SURENDRANAGAR',\n",
    "       'TAPI', 'VADODARA', 'VALSAD', 'AMBALA', 'BHIWANI', 'FARIDABAD',\n",
    "       'FATEHABAD', 'GURGAON', 'HISAR', 'JHAJJAR', 'JIND', 'KAITHAL',\n",
    "       'KARNAL', 'KURUKSHETRA', 'MAHENDRAGARH', 'MEWAT', 'PALWAL',\n",
    "       'PANCHKULA', 'PANIPAT', 'REWARI', 'ROHTAK', 'SIRSA', 'SONIPAT',\n",
    "       'YAMUNANAGAR', 'CHAMBA', 'HAMIRPUR', 'KANGRA', 'KINNAUR', 'KULLU',\n",
    "       'LAHUL AND SPITI', 'MANDI', 'SHIMLA', 'SIRMAUR', 'SOLAN', 'UNA',\n",
    "       'ANANTNAG', 'BADGAM', 'BANDIPORA', 'BARAMULLA', 'DODA',\n",
    "       'GANDERBAL', 'JAMMU', 'KARGIL', 'KATHUA', 'KISHTWAR', 'KULGAM',\n",
    "       'KUPWARA', 'LEH LADAKH', 'POONCH', 'PULWAMA', 'RAJAURI', 'RAMBAN',\n",
    "       'REASI', 'SAMBA', 'SHOPIAN', 'SRINAGAR', 'UDHAMPUR', 'BOKARO',\n",
    "       'CHATRA', 'DEOGHAR', 'DHANBAD', 'DUMKA', 'EAST SINGHBUM', 'GARHWA',\n",
    "       'GIRIDIH', 'GODDA', 'GUMLA', 'HAZARIBAGH', 'JAMTARA', 'KHUNTI',\n",
    "       'KODERMA', 'LATEHAR', 'LOHARDAGA', 'PAKUR', 'PALAMU', 'RAMGARH',\n",
    "       'RANCHI', 'SAHEBGANJ', 'SARAIKELA KHARSAWAN', 'SIMDEGA',\n",
    "       'WEST SINGHBHUM', 'BAGALKOT', 'BANGALORE RURAL', 'BELGAUM',\n",
    "       'BELLARY', 'BENGALURU URBAN', 'BIDAR', 'CHAMARAJANAGAR',\n",
    "       'CHIKBALLAPUR', 'CHIKMAGALUR', 'CHITRADURGA', 'DAKSHIN KANNAD',\n",
    "       'DAVANGERE', 'DHARWAD', 'GADAG', 'GULBARGA', 'HASSAN', 'HAVERI',\n",
    "       'KODAGU', 'KOLAR', 'KOPPAL', 'MANDYA', 'MYSORE', 'RAICHUR',\n",
    "       'RAMANAGARA', 'SHIMOGA', 'TUMKUR', 'UDUPI', 'UTTAR KANNAD',\n",
    "       'YADGIR', 'ALAPPUZHA', 'ERNAKULAM', 'IDUKKI', 'KANNUR',\n",
    "       'KASARAGOD', 'KOLLAM', 'KOTTAYAM', 'KOZHIKODE', 'MALAPPURAM',\n",
    "       'PALAKKAD', 'PATHANAMTHITTA', 'THIRUVANANTHAPURAM', 'THRISSUR',\n",
    "       'WAYANAD', 'AGAR MALWA', 'ALIRAJPUR', 'ANUPPUR', 'ASHOKNAGAR',\n",
    "       'BALAGHAT', 'BARWANI', 'BETUL', 'BHIND', 'BHOPAL', 'BURHANPUR',\n",
    "       'CHHATARPUR', 'CHHINDWARA', 'DAMOH', 'DATIA', 'DEWAS', 'DHAR',\n",
    "       'DINDORI', 'GUNA', 'GWALIOR', 'HARDA', 'HOSHANGABAD', 'INDORE',\n",
    "       'JABALPUR', 'JHABUA', 'KATNI', 'KHANDWA', 'KHARGONE', 'MANDLA',\n",
    "       'MANDSAUR', 'MORENA', 'NARSINGHPUR', 'NEEMUCH', 'PANNA', 'RAISEN',\n",
    "       'RAJGARH', 'RATLAM', 'REWA', 'SAGAR', 'SATNA', 'SEHORE', 'SEONI',\n",
    "       'SHAHDOL', 'SHAJAPUR', 'SHEOPUR', 'SHIVPURI', 'SIDHI', 'SINGRAULI',\n",
    "       'TIKAMGARH', 'UJJAIN', 'UMARIA', 'VIDISHA', 'AHMEDNAGAR', 'AKOLA',\n",
    "       'AMRAVATI', 'BEED', 'BHANDARA', 'BULDHANA', 'CHANDRAPUR', 'DHULE',\n",
    "       'GADCHIROLI', 'GONDIA', 'HINGOLI', 'JALGAON', 'JALNA', 'KOLHAPUR',\n",
    "       'LATUR', 'MUMBAI', 'NAGPUR', 'NANDED', 'NANDURBAR', 'NASHIK',\n",
    "       'OSMANABAD', 'PALGHAR', 'PARBHANI', 'PUNE', 'RAIGAD', 'RATNAGIRI',\n",
    "       'SANGLI', 'SATARA', 'SINDHUDURG', 'SOLAPUR', 'THANE', 'WARDHA',\n",
    "       'WASHIM', 'YAVATMAL', 'BISHNUPUR', 'CHANDEL', 'CHURACHANDPUR',\n",
    "       'IMPHAL EAST', 'IMPHAL WEST', 'SENAPATI', 'TAMENGLONG', 'THOUBAL',\n",
    "       'UKHRUL', 'EAST GARO HILLS', 'EAST JAINTIA HILLS',\n",
    "       'EAST KHASI HILLS', 'NORTH GARO HILLS', 'RI BHOI',\n",
    "       'SOUTH GARO HILLS', 'SOUTH WEST GARO HILLS',\n",
    "       'SOUTH WEST KHASI HILLS', 'WEST GARO HILLS', 'WEST JAINTIA HILLS',\n",
    "       'WEST KHASI HILLS', 'AIZAWL', 'CHAMPHAI', 'KOLASIB', 'LAWNGTLAI',\n",
    "       'LUNGLEI', 'MAMIT', 'SAIHA', 'SERCHHIP', 'DIMAPUR', 'KIPHIRE',\n",
    "       'KOHIMA', 'LONGLENG', 'MOKOKCHUNG', 'MON', 'PEREN', 'PHEK',\n",
    "       'TUENSANG', 'WOKHA', 'ZUNHEBOTO', 'ANUGUL', 'BALANGIR',\n",
    "       'BALESHWAR', 'BARGARH', 'BHADRAK', 'BOUDH', 'CUTTACK', 'DEOGARH',\n",
    "       'DHENKANAL', 'GAJAPATI', 'GANJAM', 'JAGATSINGHAPUR', 'JAJAPUR',\n",
    "       'JHARSUGUDA', 'KALAHANDI', 'KANDHAMAL', 'KENDRAPARA', 'KENDUJHAR',\n",
    "       'KHORDHA', 'KORAPUT', 'MALKANGIRI', 'MAYURBHANJ', 'NABARANGPUR',\n",
    "       'NAYAGARH', 'NUAPADA', 'PURI', 'RAYAGADA', 'SAMBALPUR', 'SONEPUR',\n",
    "       'SUNDARGARH', 'KARAIKAL', 'MAHE', 'PONDICHERRY', 'YANAM',\n",
    "       'AMRITSAR', 'BARNALA', 'BATHINDA', 'FARIDKOT', 'FATEHGARH SAHIB',\n",
    "       'FAZILKA', 'FIROZEPUR', 'GURDASPUR', 'HOSHIARPUR', 'JALANDHAR',\n",
    "       'KAPURTHALA', 'LUDHIANA', 'MANSA', 'MOGA', 'MUKTSAR', 'NAWANSHAHR',\n",
    "       'PATHANKOT', 'PATIALA', 'RUPNAGAR', 'S.A.S NAGAR', 'SANGRUR',\n",
    "       'TARN TARAN', 'AJMER', 'ALWAR', 'BANSWARA', 'BARAN', 'BARMER',\n",
    "       'BHARATPUR', 'BHILWARA', 'BIKANER', 'BUNDI', 'CHITTORGARH',\n",
    "       'CHURU', 'DAUSA', 'DHOLPUR', 'DUNGARPUR', 'GANGANAGAR',\n",
    "       'HANUMANGARH', 'JAIPUR', 'JAISALMER', 'JALORE', 'JHALAWAR',\n",
    "       'JHUNJHUNU', 'JODHPUR', 'KARAULI', 'KOTA', 'NAGAUR', 'PALI',\n",
    "       'PRATAPGARH', 'RAJSAMAND', 'SAWAI MADHOPUR', 'SIKAR', 'SIROHI',\n",
    "       'TONK', 'UDAIPUR', 'EAST DISTRICT', 'NORTH DISTRICT',\n",
    "       'SOUTH DISTRICT', 'WEST DISTRICT', 'ARIYALUR', 'COIMBATORE',\n",
    "       'CUDDALORE', 'DHARMAPURI', 'DINDIGUL', 'ERODE', 'KANCHIPURAM',\n",
    "       'KANNIYAKUMARI', 'KARUR', 'KRISHNAGIRI', 'MADURAI', 'NAGAPATTINAM',\n",
    "       'NAMAKKAL', 'PERAMBALUR', 'PUDUKKOTTAI', 'RAMANATHAPURAM', 'SALEM',\n",
    "       'SIVAGANGA', 'THANJAVUR', 'THE NILGIRIS', 'THENI', 'THIRUVALLUR',\n",
    "       'THIRUVARUR', 'TIRUCHIRAPPALLI', 'TIRUNELVELI', 'TIRUPPUR',\n",
    "       'TIRUVANNAMALAI', 'TUTICORIN', 'VELLORE', 'VILLUPURAM',\n",
    "       'VIRUDHUNAGAR', 'ADILABAD', 'HYDERABAD', 'KARIMNAGAR', 'KHAMMAM',\n",
    "       'MAHBUBNAGAR', 'MEDAK', 'NALGONDA', 'NIZAMABAD', 'RANGAREDDI',\n",
    "       'WARANGAL', 'DHALAI', 'GOMATI', 'KHOWAI', 'NORTH TRIPURA',\n",
    "       'SEPAHIJALA', 'SOUTH TRIPURA', 'UNAKOTI', 'WEST TRIPURA', 'AGRA',\n",
    "       'ALIGARH', 'ALLAHABAD', 'AMBEDKAR NAGAR', 'AMETHI', 'AMROHA',\n",
    "       'AURAIYA', 'AZAMGARH', 'BAGHPAT', 'BAHRAICH', 'BALLIA', 'BANDA',\n",
    "       'BARABANKI', 'BAREILLY', 'BASTI', 'BIJNOR', 'BUDAUN',\n",
    "       'BULANDSHAHR', 'CHANDAULI', 'CHITRAKOOT', 'DEORIA', 'ETAH',\n",
    "       'ETAWAH', 'FAIZABAD', 'FARRUKHABAD', 'FATEHPUR', 'FIROZABAD',\n",
    "       'GAUTAM BUDDHA NAGAR', 'GHAZIABAD', 'GHAZIPUR', 'GONDA',\n",
    "       'GORAKHPUR', 'HAPUR', 'HARDOI', 'HATHRAS', 'JALAUN', 'JAUNPUR',\n",
    "       'JHANSI', 'KANNAUJ', 'KANPUR DEHAT', 'KANPUR NAGAR', 'KASGANJ',\n",
    "       'KAUSHAMBI', 'KHERI', 'KUSHI NAGAR', 'LALITPUR', 'LUCKNOW',\n",
    "       'MAHARAJGANJ', 'MAHOBA', 'MAINPURI', 'MATHURA', 'MAU', 'MEERUT',\n",
    "       'MIRZAPUR', 'MORADABAD', 'MUZAFFARNAGAR', 'PILIBHIT', 'RAE BARELI',\n",
    "       'RAMPUR', 'SAHARANPUR', 'SAMBHAL', 'SANT KABEER NAGAR',\n",
    "       'SANT RAVIDAS NAGAR', 'SHAHJAHANPUR', 'SHAMLI', 'SHRAVASTI',\n",
    "       'SIDDHARTH NAGAR', 'SITAPUR', 'SONBHADRA', 'SULTANPUR', 'UNNAO',\n",
    "       'VARANASI', 'ALMORA', 'BAGESHWAR', 'CHAMOLI', 'CHAMPAWAT',\n",
    "       'DEHRADUN', 'HARIDWAR', 'NAINITAL', 'PAURI GARHWAL', 'PITHORAGARH',\n",
    "       'RUDRA PRAYAG', 'TEHRI GARHWAL', 'UDAM SINGH NAGAR', 'UTTAR KASHI',\n",
    "       '24 PARAGANAS NORTH', '24 PARAGANAS SOUTH', 'BANKURA', 'BARDHAMAN',\n",
    "       'BIRBHUM', 'COOCHBEHAR', 'DARJEELING', 'DINAJPUR DAKSHIN',\n",
    "       'DINAJPUR UTTAR', 'HOOGHLY', 'HOWRAH', 'JALPAIGURI', 'MALDAH',\n",
    "       'MEDINIPUR EAST', 'MEDINIPUR WEST', 'MURSHIDABAD', 'NADIA',\n",
    "       'PURULIA']"
   ]
  },
  {
   "cell_type": "code",
   "execution_count": 9,
   "id": "6fec476c",
   "metadata": {},
   "outputs": [],
   "source": [
    "crop_list=['Arecanut', 'Rice', 'Banana', 'Cashewnut', 'Dry ginger',\n",
    "       'Sugarcane', 'Sweet potato', 'Tapioca', 'Black pepper',\n",
    "       'Dry chillies', 'Turmeric', 'Maize', 'Moong(Green Gram)', 'Urad',\n",
    "       'Other Kharif pulses', 'other oilseeds', 'Arhar/Tur', 'Groundnut',\n",
    "       'Sunflower', 'Bajra', 'Castor seed', 'Cotton(lint)', 'Horse-gram',\n",
    "       'Jowar', 'Korra', 'Ragi', 'Tobacco', 'Gram', 'Wheat', 'Masoor',\n",
    "       'Sesamum', 'Safflower', 'Onion', 'other misc. pulses', 'Samai',\n",
    "       'Small millets', 'Linseed', 'Coriander', 'Potato',\n",
    "       'Beans & Mutter(Vegetable)', 'Bhindi', 'Brinjal', 'Citrus Fruit',\n",
    "       'Grapes', 'Mango', 'Orange', 'Other Fresh Fruits', 'Papaya',\n",
    "       'Pome Fruit', 'Tomato', 'Soyabean', 'Other  Rabi pulses', 'Mesta',\n",
    "       'Cowpea(Lobia)', 'Lemon', 'Pome Granet', 'Sapota', 'Cabbage',\n",
    "       'Rapeseed &Mustard', 'Niger seed', 'Varagu', 'Coconut ', 'Garlic',\n",
    "       'Ginger', 'Oilseeds total', 'Pulses total', 'Jute',\n",
    "       'Peas & beans (Pulses)', 'Blackgram', 'Paddy', 'Pineapple',\n",
    "       'Barley', 'Sannhamp', 'Khesari', 'Guar seed', 'Other Vegetables',\n",
    "       'Moth', 'Other Cereals & Millets', 'Cond-spcs other', 'Turnip',\n",
    "       'Carrot', 'Redish', 'Arcanut (Processed)', 'Atcanut (Raw)',\n",
    "       'Cashewnut Processed', 'Cashewnut Raw', 'Cardamom', 'Rubber',\n",
    "       'Drum Stick', 'Jack Fruit', 'Coffee', 'Tea', 'Total foodgrain',\n",
    "       'Cauliflower', 'Bitter Gourd', 'Bottle Gourd', 'Kapas',\n",
    "       'Colocosia', 'Lentil', 'Bean', 'Jobster', 'Perilla',\n",
    "       'Rajmash Kholar', 'Ricebean (nagadal)', 'Jute & mesta']"
   ]
  },
  {
   "cell_type": "code",
   "execution_count": 10,
   "id": "a53278e7",
   "metadata": {},
   "outputs": [],
   "source": [
    "season_list = ['Kharif', 'Whole Year', 'Autumn ', 'Rabi',\n",
    "       'Summer', 'Winter']"
   ]
  },
  {
   "cell_type": "code",
   "execution_count": 13,
   "id": "e0836e10",
   "metadata": {},
   "outputs": [],
   "source": [
    "state_list = [clean(name) for name in state_list]\n",
    "District_list = [clean(name) for name in District_list]\n",
    "season_list = [clean(name) for name in season_list]\n",
    "zones_list = [clean(name) for name in zones_list]\n",
    "crop_list = [clean(name) for name in crop_list]\n"
   ]
  },
  {
   "cell_type": "code",
   "execution_count": 15,
   "id": "2f145114",
   "metadata": {},
   "outputs": [],
   "source": [
    "def get_params(name,ls):\n",
    "    while(True):\n",
    "        value =input(\"Enter {} : \".format(name))\n",
    "        if value not in ls:\n",
    "            print(\"Enter correct  value\")\n",
    "        else:\n",
    "            return value"
   ]
  },
  {
   "cell_type": "code",
   "execution_count": 16,
   "id": "27d463d4",
   "metadata": {},
   "outputs": [
    {
     "name": "stdout",
     "output_type": "stream",
     "text": [
      "Enter state_name : rajasthan\n",
      "Enter District name : pali\n",
      "Enter Crop name : wheat\n",
      "Enter year : 20202\n",
      "Enter Season : kharif\n",
      "Enter area: 200\n"
     ]
    }
   ],
   "source": [
    "state_name =get_params(\"state_name\", state_list)\n",
    "district_name =get_params(\"District name\", District_list)\n",
    "crop_name =get_params(\"Crop name\", crop_list)\n",
    "Season =get_params(\"Season\", season_list)\n",
    "Area = input(\"Enter area: \")    "
   ]
  },
  {
   "cell_type": "code",
   "execution_count": 17,
   "id": "8d432d83",
   "metadata": {},
   "outputs": [],
   "source": [
    "state_lb = LabelEncoder().fit(state_list)\n",
    "district_lb = LabelEncoder().fit(District_list)\n",
    "season_lb = LabelEncoder().fit(season_list)\n",
    "zones_lb = LabelEncoder().fit(zones_list)\n",
    "crop_lb = LabelEncoder().fit(crop_list)"
   ]
  },
  {
   "cell_type": "code",
   "execution_count": 18,
   "id": "2dae7724",
   "metadata": {},
   "outputs": [],
   "source": [
    "zones = get_zonal_names(state_name)\n",
    "\n"
   ]
  },
  {
   "cell_type": "code",
   "execution_count": 19,
   "id": "fcb0933a",
   "metadata": {},
   "outputs": [],
   "source": [
    "def encoding(state,district,season,zone,crop):\n",
    "    state= state_lb.transform([clean(state)])\n",
    "    district= district_lb.transform([clean(district)])\n",
    "    season= season_lb.transform([clean(season)])\n",
    "    zone= zones_lb.transform([clean(zone)])\n",
    "    crop = crop_lb.transform([clean(crop)])\n",
    "    \n",
    "    return state[0],district[0],season[0],zone[0],crop[0]"
   ]
  },
  {
   "cell_type": "code",
   "execution_count": 20,
   "id": "810ce363",
   "metadata": {},
   "outputs": [],
   "source": [
    "state,district,season,zone,crop =encoding(state_name,district_name,Season,zones,crop_name)"
   ]
  },
  {
   "cell_type": "code",
   "execution_count": 21,
   "id": "e1f5c4df",
   "metadata": {
    "scrolled": true
   },
   "outputs": [],
   "source": [
    "data = np.array([state,district,season,crop,Area,zone])\n"
   ]
  },
  {
   "cell_type": "code",
   "execution_count": 22,
   "id": "fefae8ed",
   "metadata": {},
   "outputs": [],
   "source": [
    "filename = \"production_model.pkl\"\n",
    "model = pickle.load(open(filename, 'rb'))"
   ]
  },
  {
   "cell_type": "code",
   "execution_count": 23,
   "id": "3631ebde",
   "metadata": {},
   "outputs": [
    {
     "name": "stderr",
     "output_type": "stream",
     "text": [
      "C:\\Users\\RAHUL SUTHAR\\anaconda3\\lib\\site-packages\\sklearn\\base.py:450: UserWarning: X does not have valid feature names, but RandomForestRegressor was fitted with feature names\n",
      "  warnings.warn(\n"
     ]
    }
   ],
   "source": [
    "production =model.predict(data.reshape(1,-1))"
   ]
  },
  {
   "cell_type": "code",
   "execution_count": 24,
   "id": "d6634534",
   "metadata": {},
   "outputs": [
    {
     "data": {
      "text/plain": [
       "281.128"
      ]
     },
     "execution_count": 24,
     "metadata": {},
     "output_type": "execute_result"
    }
   ],
   "source": [
    "production[0]"
   ]
  },
  {
   "cell_type": "code",
   "execution_count": null,
   "id": "fd23863e",
   "metadata": {},
   "outputs": [],
   "source": []
  },
  {
   "cell_type": "markdown",
   "id": "6ccbce6d",
   "metadata": {},
   "source": [
    "## Predict Crop"
   ]
  },
  {
   "cell_type": "code",
   "execution_count": 25,
   "id": "6c82b37f",
   "metadata": {},
   "outputs": [
    {
     "name": "stdout",
     "output_type": "stream",
     "text": [
      "Enter Rainfall 654\n",
      "Enter Temperature 24\n",
      "Enter ph 6\n"
     ]
    }
   ],
   "source": [
    "Rainfall = input(\"Enter Rainfall \")\n",
    "Temp = input(\"Enter Temperature \")\n",
    "ph = input(\"Enter ph \")\n",
    "\n"
   ]
  },
  {
   "cell_type": "code",
   "execution_count": 48,
   "id": "a622a234",
   "metadata": {},
   "outputs": [],
   "source": [
    "crop_model= pickle.load(open(\"crop_model.pkl\",\"rb\"))\n"
   ]
  },
  {
   "cell_type": "code",
   "execution_count": 49,
   "id": "db8f89da",
   "metadata": {},
   "outputs": [
    {
     "name": "stderr",
     "output_type": "stream",
     "text": [
      "C:\\Users\\RAHUL SUTHAR\\anaconda3\\lib\\site-packages\\sklearn\\base.py:450: UserWarning: X does not have valid feature names, but RandomForestClassifier was fitted with feature names\n",
      "  warnings.warn(\n"
     ]
    }
   ],
   "source": [
    "data = np.array([Rainfall,Temp,ph])\n",
    "crop =crop_model.predict(data.reshape(1,-1))"
   ]
  },
  {
   "cell_type": "code",
   "execution_count": 50,
   "id": "e2fd5804",
   "metadata": {},
   "outputs": [
    {
     "data": {
      "text/plain": [
       "array(['Maize'], dtype=object)"
      ]
     },
     "execution_count": 50,
     "metadata": {},
     "output_type": "execute_result"
    }
   ],
   "source": [
    "crop"
   ]
  },
  {
   "cell_type": "code",
   "execution_count": 38,
   "id": "0a5a2079",
   "metadata": {},
   "outputs": [],
   "source": []
  },
  {
   "cell_type": "code",
   "execution_count": null,
   "id": "4d40e3e1",
   "metadata": {},
   "outputs": [],
   "source": []
  }
 ],
 "metadata": {
  "kernelspec": {
   "display_name": "Python 3 (ipykernel)",
   "language": "python",
   "name": "python3"
  },
  "language_info": {
   "codemirror_mode": {
    "name": "ipython",
    "version": 3
   },
   "file_extension": ".py",
   "mimetype": "text/x-python",
   "name": "python",
   "nbconvert_exporter": "python",
   "pygments_lexer": "ipython3",
   "version": "3.9.12"
  }
 },
 "nbformat": 4,
 "nbformat_minor": 5
}
